{
 "cells": [
  {
   "cell_type": "code",
   "execution_count": 162,
   "metadata": {},
   "outputs": [],
   "source": [
    "import json\n",
    "import os\n",
    "from pprint import pprint\n",
    "import shutil"
   ]
  },
  {
   "cell_type": "code",
   "execution_count": 163,
   "metadata": {},
   "outputs": [],
   "source": [
    "def copy_data_to(path_list, new_path):\n",
    "    for f in path_list:\n",
    "        shutil.copy(f, new_path)\n",
    "\n",
    "def get_file_path_list(file_paths):\n",
    "    for dirpath, _, files in os.walk(file_paths):\n",
    "        return [os.path.join(dirpath, f) for f in files]"
   ]
  },
  {
   "cell_type": "code",
   "execution_count": 164,
   "metadata": {},
   "outputs": [],
   "source": [
    "nsynth_path = '/media/mikael/HD/NSynth/'\n",
    "audio_sufix = 'audio/'\n",
    "\n",
    "nsynth_test_path = 'nsynth-test.jsonwav/nsynth-test'\n",
    "nsynth_valid_path = 'nsynth-valid.jsonwav/nsynth-valid'\n",
    "nsynth_train_path = 'nsynth-train.jsonwav/nsynth-train'\n",
    "\n",
    "file_paths = []\n",
    "\n",
    "test_files = os.path.join(nsynth_path, nsynth_test_path, audio_sufix)\n",
    "valid_files = os.path.join(nsynth_path, nsynth_valid_path, audio_sufix)\n",
    "train_files = os.path.join(nsynth_path, nsynth_train_path, audio_sufix)\n",
    "\n",
    "file_paths.extend(get_file_path_list(test_files))\n",
    "file_paths.extend(get_file_path_list(valid_files))\n",
    "file_paths.extend(get_file_path_list(train_files))\n",
    "\n",
    "file_paths.sort()"
   ]
  },
  {
   "cell_type": "code",
   "execution_count": 165,
   "metadata": {},
   "outputs": [
    {
     "data": {
      "text/plain": [
       "['/media/mikael/HD/NSynth/nsynth-test.jsonwav/nsynth-test/audio/bass_electronic_018-022-100.wav',\n",
       " '/media/mikael/HD/NSynth/nsynth-test.jsonwav/nsynth-test/audio/bass_electronic_018-023-025.wav',\n",
       " '/media/mikael/HD/NSynth/nsynth-test.jsonwav/nsynth-test/audio/bass_electronic_018-023-075.wav',\n",
       " '/media/mikael/HD/NSynth/nsynth-test.jsonwav/nsynth-test/audio/bass_electronic_018-023-127.wav',\n",
       " '/media/mikael/HD/NSynth/nsynth-test.jsonwav/nsynth-test/audio/bass_electronic_018-024-025.wav',\n",
       " '/media/mikael/HD/NSynth/nsynth-test.jsonwav/nsynth-test/audio/bass_electronic_018-024-100.wav',\n",
       " '/media/mikael/HD/NSynth/nsynth-test.jsonwav/nsynth-test/audio/bass_electronic_018-026-025.wav',\n",
       " '/media/mikael/HD/NSynth/nsynth-test.jsonwav/nsynth-test/audio/bass_electronic_018-026-075.wav',\n",
       " '/media/mikael/HD/NSynth/nsynth-test.jsonwav/nsynth-test/audio/bass_electronic_018-026-127.wav',\n",
       " '/media/mikael/HD/NSynth/nsynth-test.jsonwav/nsynth-test/audio/bass_electronic_018-027-075.wav']"
      ]
     },
     "execution_count": 165,
     "metadata": {},
     "output_type": "execute_result"
    }
   ],
   "source": [
    "file_paths[:10]"
   ]
  },
  {
   "cell_type": "markdown",
   "metadata": {},
   "source": [
    "### Extracting Piano Examples"
   ]
  },
  {
   "cell_type": "code",
   "execution_count": 166,
   "metadata": {},
   "outputs": [],
   "source": [
    "piano_path = '../data/nsynth/piano/'\n",
    "pianos_acoustic_000 = [x for x in file_paths if x.split('/')[-1].startswith('keyboard_acoustic_000')]\n",
    "pianos_acoustic_000.sort()\n",
    "p_examples_qnt = len(pianos_acoustic_000)\n",
    "p_variations_qnt = 5\n",
    "p_notes_qnt = p_examples_qnt / p_variations_qnt"
   ]
  },
  {
   "cell_type": "code",
   "execution_count": 167,
   "metadata": {},
   "outputs": [
    {
     "name": "stdout",
     "output_type": "stream",
     "text": [
      "Examples: 440\n",
      "Variations: 5\n",
      "Notes: 88.0\n"
     ]
    }
   ],
   "source": [
    "print(\"Examples: {}\\nVariations: {}\\nNotes: {}\".format(p_examples_qnt, p_variations_qnt, p_notes_qnt))"
   ]
  },
  {
   "cell_type": "code",
   "execution_count": 168,
   "metadata": {},
   "outputs": [
    {
     "data": {
      "text/plain": [
       "['/media/mikael/HD/NSynth/nsynth-train.jsonwav/nsynth-train/audio/keyboard_acoustic_000-021-025.wav',\n",
       " '/media/mikael/HD/NSynth/nsynth-train.jsonwav/nsynth-train/audio/keyboard_acoustic_000-021-050.wav',\n",
       " '/media/mikael/HD/NSynth/nsynth-train.jsonwav/nsynth-train/audio/keyboard_acoustic_000-021-075.wav',\n",
       " '/media/mikael/HD/NSynth/nsynth-train.jsonwav/nsynth-train/audio/keyboard_acoustic_000-021-100.wav',\n",
       " '/media/mikael/HD/NSynth/nsynth-train.jsonwav/nsynth-train/audio/keyboard_acoustic_000-021-127.wav',\n",
       " '/media/mikael/HD/NSynth/nsynth-train.jsonwav/nsynth-train/audio/keyboard_acoustic_000-022-025.wav',\n",
       " '/media/mikael/HD/NSynth/nsynth-train.jsonwav/nsynth-train/audio/keyboard_acoustic_000-022-050.wav',\n",
       " '/media/mikael/HD/NSynth/nsynth-train.jsonwav/nsynth-train/audio/keyboard_acoustic_000-022-075.wav',\n",
       " '/media/mikael/HD/NSynth/nsynth-train.jsonwav/nsynth-train/audio/keyboard_acoustic_000-022-100.wav',\n",
       " '/media/mikael/HD/NSynth/nsynth-train.jsonwav/nsynth-train/audio/keyboard_acoustic_000-022-127.wav']"
      ]
     },
     "execution_count": 168,
     "metadata": {},
     "output_type": "execute_result"
    }
   ],
   "source": [
    "pianos_acoustic_000[:10]"
   ]
  },
  {
   "cell_type": "code",
   "execution_count": 169,
   "metadata": {},
   "outputs": [],
   "source": [
    "copy_data_to(pianos_acoustic_000, piano_path)"
   ]
  },
  {
   "cell_type": "markdown",
   "metadata": {},
   "source": [
    "### Extracting Guitar Examples"
   ]
  },
  {
   "cell_type": "code",
   "execution_count": 170,
   "metadata": {},
   "outputs": [],
   "source": [
    "guitar_path = '../data/nsynth/guitar/'\n",
    "guitars_acoustic_000 = [x for x in file_paths if x.split('/')[-1].startswith('guitar_acoustic_000')]\n",
    "guitars_acoustic_000.sort()\n",
    "g_examples_qnt = len(guitars_acoustic_000)\n",
    "g_variations_qnt = 5\n",
    "g_notes_qnt = g_examples_qnt / g_variations_qnt"
   ]
  },
  {
   "cell_type": "code",
   "execution_count": 171,
   "metadata": {},
   "outputs": [
    {
     "name": "stdout",
     "output_type": "stream",
     "text": [
      "Examples: 440\n",
      "Variations: 5\n",
      "Notes: 88.0\n"
     ]
    }
   ],
   "source": [
    "print(\"Examples: {}\\nVariations: {}\\nNotes: {}\".format(g_examples_qnt, g_variations_qnt, g_notes_qnt))"
   ]
  },
  {
   "cell_type": "code",
   "execution_count": 172,
   "metadata": {},
   "outputs": [
    {
     "data": {
      "text/plain": [
       "['/media/mikael/HD/NSynth/nsynth-train.jsonwav/nsynth-train/audio/guitar_acoustic_000-021-025.wav',\n",
       " '/media/mikael/HD/NSynth/nsynth-train.jsonwav/nsynth-train/audio/guitar_acoustic_000-021-050.wav',\n",
       " '/media/mikael/HD/NSynth/nsynth-train.jsonwav/nsynth-train/audio/guitar_acoustic_000-021-075.wav',\n",
       " '/media/mikael/HD/NSynth/nsynth-train.jsonwav/nsynth-train/audio/guitar_acoustic_000-021-100.wav',\n",
       " '/media/mikael/HD/NSynth/nsynth-train.jsonwav/nsynth-train/audio/guitar_acoustic_000-021-127.wav',\n",
       " '/media/mikael/HD/NSynth/nsynth-train.jsonwav/nsynth-train/audio/guitar_acoustic_000-022-025.wav',\n",
       " '/media/mikael/HD/NSynth/nsynth-train.jsonwav/nsynth-train/audio/guitar_acoustic_000-022-050.wav',\n",
       " '/media/mikael/HD/NSynth/nsynth-train.jsonwav/nsynth-train/audio/guitar_acoustic_000-022-075.wav',\n",
       " '/media/mikael/HD/NSynth/nsynth-train.jsonwav/nsynth-train/audio/guitar_acoustic_000-022-100.wav',\n",
       " '/media/mikael/HD/NSynth/nsynth-train.jsonwav/nsynth-train/audio/guitar_acoustic_000-022-127.wav']"
      ]
     },
     "execution_count": 172,
     "metadata": {},
     "output_type": "execute_result"
    }
   ],
   "source": [
    "guitars_acoustic_000[:10]"
   ]
  },
  {
   "cell_type": "code",
   "execution_count": 173,
   "metadata": {},
   "outputs": [],
   "source": [
    "copy_data_to(guitars_acoustic_000, guitar_path)"
   ]
  },
  {
   "cell_type": "code",
   "execution_count": null,
   "metadata": {},
   "outputs": [],
   "source": []
  }
 ],
 "metadata": {
  "kernelspec": {
   "display_name": "Python 3",
   "language": "python",
   "name": "python3"
  },
  "language_info": {
   "codemirror_mode": {
    "name": "ipython",
    "version": 3
   },
   "file_extension": ".py",
   "mimetype": "text/x-python",
   "name": "python",
   "nbconvert_exporter": "python",
   "pygments_lexer": "ipython3",
   "version": "3.7.5rc1"
  }
 },
 "nbformat": 4,
 "nbformat_minor": 4
}
