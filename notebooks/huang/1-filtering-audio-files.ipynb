{
 "cells": [
  {
   "cell_type": "code",
   "execution_count": 45,
   "metadata": {},
   "outputs": [],
   "source": [
    "import os\n",
    "import librosa\n",
    "import numpy as np\n",
    "\n",
    "from pprint import pprint"
   ]
  },
  {
   "cell_type": "markdown",
   "metadata": {},
   "source": [
    "Alguns dos áudios disponíveis tem tamanhos diferentes. Vou filtrar apenas alguns para realizar experimentos"
   ]
  },
  {
   "cell_type": "code",
   "execution_count": 46,
   "metadata": {},
   "outputs": [],
   "source": [
    "audio_folder_path = '../../data/huang/Segmented/'"
   ]
  },
  {
   "cell_type": "code",
   "execution_count": 47,
   "metadata": {},
   "outputs": [],
   "source": [
    "l = list()\n",
    "\n",
    "for filepath, _, filenames in os.walk(audio_folder_path):\n",
    "    for filename in filenames:\n",
    "        audio_file = os.path.join(filepath, filename)\n",
    "        l.append(librosa.load(audio_file, sr=None))"
   ]
  },
  {
   "cell_type": "code",
   "execution_count": 48,
   "metadata": {},
   "outputs": [],
   "source": [
    "from collections import defaultdict\n",
    "d = defaultdict(int)\n",
    "\n",
    "for i in range(len(l)):\n",
    "    d[len(l[i][0])] += 1"
   ]
  },
  {
   "cell_type": "code",
   "execution_count": 49,
   "metadata": {},
   "outputs": [
    {
     "name": "stdout",
     "output_type": "stream",
     "text": [
      "dict_items([(177152, 1998), (176128, 5513), (77824, 1), (25600, 1), (2048, 1), (90112, 1), (32768, 1), (64512, 1), (43008, 1), (75776, 1)])\n",
      "Valor mais comum:  (176128, 5513)\n"
     ]
    }
   ],
   "source": [
    "pprint(d.items())\n",
    "most_common_length = max(d.items(), key=lambda x: x[1])\n",
    "print(\"Valor mais comum: \", most_common_length)"
   ]
  },
  {
   "cell_type": "code",
   "execution_count": 50,
   "metadata": {},
   "outputs": [],
   "source": [
    "l = None"
   ]
  },
  {
   "cell_type": "markdown",
   "metadata": {},
   "source": [
    "Sabendo que o tamanho mais comum é 176128 e o segundo mais comum é 177152, vou usar o segundo mais comum para facilitar com a memória."
   ]
  },
  {
   "cell_type": "code",
   "execution_count": 51,
   "metadata": {},
   "outputs": [],
   "source": [
    "def filter_length(datapath, length):\n",
    "    l = []\n",
    "    for filepath, _, filenames in os.walk(audio_folder_path):\n",
    "        for filename in filenames:\n",
    "            audio_file = os.path.join(filepath, filename)\n",
    "            audio_data = librosa.load(audio_file, sr=None)\n",
    "            if len(audio_data[0]) == length:\n",
    "                l.append(audio_file)\n",
    "    return l"
   ]
  },
  {
   "cell_type": "code",
   "execution_count": 52,
   "metadata": {},
   "outputs": [],
   "source": [
    "most_common = 176128\n",
    "second_most_common = 177152\n",
    "filtered_files = filter_length(audio_folder_path, second_most_common)"
   ]
  },
  {
   "cell_type": "code",
   "execution_count": 53,
   "metadata": {},
   "outputs": [
    {
     "data": {
      "text/plain": [
       "['../../data/huang/Segmented/Flute1-000.wav',\n",
       " '../../data/huang/Segmented/Flute1-003.wav',\n",
       " '../../data/huang/Segmented/Flute1-007.wav']"
      ]
     },
     "execution_count": 53,
     "metadata": {},
     "output_type": "execute_result"
    }
   ],
   "source": [
    "filtered_files[:3]"
   ]
  },
  {
   "cell_type": "markdown",
   "metadata": {},
   "source": [
    "Para carregar a lista de dados filtrados vou fazer um arquivo contendo todos os arquivos que são de mesmo tamanho."
   ]
  },
  {
   "cell_type": "code",
   "execution_count": 54,
   "metadata": {},
   "outputs": [],
   "source": [
    "most_common_name = \"most_common.txt\"\n",
    "second_most_common_name = \"second_most_common.txt\"\n",
    "\n",
    "filter_path = '../../filters/huang/'"
   ]
  },
  {
   "cell_type": "code",
   "execution_count": 56,
   "metadata": {},
   "outputs": [],
   "source": [
    "filename = os.path.join(filter_path, second_most_common_name)\n",
    "\n",
    "with open(filename, 'w') as f:\n",
    "    for file in filtered_files:\n",
    "        f.write(file + '\\n')"
   ]
  }
 ],
 "metadata": {
  "file_extension": ".py",
  "kernelspec": {
   "display_name": "Python 3",
   "language": "python",
   "name": "python3"
  },
  "language_info": {
   "codemirror_mode": {
    "name": "ipython",
    "version": 3
   },
   "file_extension": ".py",
   "mimetype": "text/x-python",
   "name": "python",
   "nbconvert_exporter": "python",
   "pygments_lexer": "ipython3",
   "version": "3.6.9"
  },
  "mimetype": "text/x-python",
  "name": "python",
  "npconvert_exporter": "python",
  "pygments_lexer": "ipython3",
  "version": 3
 },
 "nbformat": 4,
 "nbformat_minor": 4
}
