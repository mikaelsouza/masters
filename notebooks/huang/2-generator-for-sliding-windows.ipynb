{
 "cells": [
  {
   "cell_type": "code",
   "execution_count": 2,
   "metadata": {},
   "outputs": [],
   "source": [
    "import librosa\n",
    "import numpy as np\n",
    "import os"
   ]
  },
  {
   "cell_type": "code",
   "execution_count": 3,
   "metadata": {},
   "outputs": [],
   "source": [
    "filter_path = '../../filters/huang/second_most_common.txt'"
   ]
  },
  {
   "cell_type": "code",
   "execution_count": 4,
   "metadata": {},
   "outputs": [
    {
     "data": {
      "text/plain": [
       "(1998, 177152)"
      ]
     },
     "execution_count": 4,
     "metadata": {},
     "output_type": "execute_result"
    }
   ],
   "source": [
    "def load_data(filter_path):\n",
    "    file_path = None\n",
    "    with open(filter_path, 'r') as f:\n",
    "        file_path = f.readlines()\n",
    "        file_path = map(str.strip, file_path)\n",
    "        file_path = list(file_path)\n",
    "    \n",
    "    audio_data = []\n",
    "    \n",
    "    for file in file_path:\n",
    "        audio, _ = librosa.load(file, sr=None)\n",
    "        audio_data.append(audio)\n",
    "    \n",
    "    audio_data = np.array(audio_data)\n",
    "    return audio_data\n",
    "    \n",
    "audio_data = load_data(filter_path)\n",
    "audio_data.shape"
   ]
  },
  {
   "cell_type": "code",
   "execution_count": 5,
   "metadata": {},
   "outputs": [
    {
     "data": {
      "text/plain": [
       "(353949696, 1)"
      ]
     },
     "execution_count": 5,
     "metadata": {},
     "output_type": "execute_result"
    }
   ],
   "source": [
    "audio_data.shape\n",
    "test_audio_data = audio_data.reshape(-1, 1)\n",
    "test_audio_data.shape"
   ]
  },
  {
   "cell_type": "code",
   "execution_count": 29,
   "metadata": {},
   "outputs": [],
   "source": [
    "from itertools import islice\n",
    "\n",
    "def to_window(seq, n=2):\n",
    "    \"Returns a sliding window (of width n) over data from the iterable\"\n",
    "    \"   s -> (s0,s1,...s[n-1]), (s1,s2,...,sn), ...                   \"\n",
    "    it = iter(seq)\n",
    "    result = tuple(islice(it, n))\n",
    "    if len(result) == n:\n",
    "        yield np.array(result)\n",
    "    for elem in it:\n",
    "        result = result[1:] + (elem,)\n",
    "        yield np.array(result)\n",
    "\n",
    "def get_window_batch(seq, window_size, batch_size):\n",
    "    it = 0\n",
    "    d = []\n",
    "    \n",
    "    gen = to_window(seq, window_size + 1)\n",
    "    while True:\n",
    "        while it < batch_size:\n",
    "            try:\n",
    "                data = next(gen)\n",
    "            except:\n",
    "                gen = to_window(seq, window_size)\n",
    "                data = next(gen)\n",
    "            d.append(data)\n",
    "            it += 1\n",
    "        it = 0\n",
    "        d = np.array(d)\n",
    "        X = d[:, : window_size]\n",
    "        y = d[:, -1]\n",
    "        yield (X, y)\n",
    "        d = []"
   ]
  },
  {
   "cell_type": "code",
   "execution_count": 40,
   "metadata": {},
   "outputs": [
    {
     "data": {
      "text/plain": [
       "(353949696, 1)"
      ]
     },
     "execution_count": 40,
     "metadata": {},
     "output_type": "execute_result"
    }
   ],
   "source": [
    "test_audio_data.shape"
   ]
  },
  {
   "cell_type": "code",
   "execution_count": 38,
   "metadata": {},
   "outputs": [],
   "source": [
    "gen = get_window_batch(test_audio_data[1000000:1020000], window_size=2, batch_size=10)"
   ]
  },
  {
   "cell_type": "code",
   "execution_count": null,
   "metadata": {},
   "outputs": [],
   "source": []
  }
 ],
 "metadata": {
  "kernelspec": {
   "display_name": "Python 3",
   "language": "python",
   "name": "python3"
  },
  "language_info": {
   "codemirror_mode": {
    "name": "ipython",
    "version": 3
   },
   "file_extension": ".py",
   "mimetype": "text/x-python",
   "name": "python",
   "nbconvert_exporter": "python",
   "pygments_lexer": "ipython3",
   "version": "3.6.9"
  }
 },
 "nbformat": 4,
 "nbformat_minor": 4
}
